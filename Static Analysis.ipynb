{
 "cells": [
  {
   "cell_type": "code",
   "execution_count": null,
   "metadata": {},
   "outputs": [],
   "source": [
    "import requests\n",
    "import pandas as pd\n",
    "#Loading the Data frames using Pandas.\n",
    "MalwareDataset = pd.read_csv('StaticAnalysisDataset.csv',sep='|')\n",
    "#getting the Md5 column \n",
    "md5hash = MalwareDataset.get('md5') \n",
    "#Creating an empty Malware list\n",
    "responseListMal=[]\n",
    "#looping through the md5hash in dataset.\n",
    "for md5 in md5hash:\n",
    "    url = 'https://www.virustotal.com/vtapi/v2/file/report'\n",
    "    params = {'apikey': \n",
    "              '60286b9fe86addc4aa8955aafbfe27c22f17687581bffe27983b6ee36020f1a4', \n",
    "              'resource': md5}\n",
    "    response = requests.get(url, params=params)\n",
    "    #Checking if a md5 hash of file is malicious\n",
    "    if response.json().get('positives')!=None:\n",
    "        if response.json().get('positives')>0:\n",
    "            #print(md5)\n",
    "            responseListMal.append(float((response.json().get('positives')/(response.json().get('total')))*100))\n",
    "        else:\n",
    "            pass\n",
    "print(len(responseListMal))\n",
    "#checking if the Malware List is no empty.\n",
    "if len(responseListMal) !=0:\n",
    "    try:\n",
    "        #Calculating the average detectionrate of VirusTotal API of a Malicious File\n",
    "        averageDetectionRate = sum(responseListMal)/len(responseListMal)\n",
    "        print(\"The Average detection rate for VirusTotal API of a Malicious File is\",averageDetectionRate,\"%\")\n",
    "    except ZeroDivisionError:\n",
    "        print('The Average detection rate for VirusTotal API of a Malicious File Cannot divide by zero.')\n",
    "else:\n",
    "    pass\n"
   ]
  },
  {
   "cell_type": "markdown",
   "metadata": {},
   "source": [
    "The Average detection rate for VirusTotal API of a Malicious File is 72.31%"
   ]
  }
 ],
 "metadata": {
  "kernelspec": {
   "display_name": "Python 3",
   "language": "python",
   "name": "python3"
  },
  "language_info": {
   "codemirror_mode": {
    "name": "ipython",
    "version": 3
   },
   "file_extension": ".py",
   "mimetype": "text/x-python",
   "name": "python",
   "nbconvert_exporter": "python",
   "pygments_lexer": "ipython3",
   "version": "3.7.6"
  }
 },
 "nbformat": 4,
 "nbformat_minor": 4
}
